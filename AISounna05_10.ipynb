{
  "nbformat": 4,
  "nbformat_minor": 0,
  "metadata": {
    "colab": {
      "provenance": [],
      "authorship_tag": "ABX9TyPdXo7o8iDDoVwEJ0iSGfqb",
      "include_colab_link": true
    },
    "kernelspec": {
      "name": "python3",
      "display_name": "Python 3"
    },
    "language_info": {
      "name": "python"
    }
  },
  "cells": [
    {
      "cell_type": "markdown",
      "metadata": {
        "id": "view-in-github",
        "colab_type": "text"
      },
      "source": [
        "<a href=\"https://colab.research.google.com/github/CarloGiacometti/PrimaRepository/blob/main/AISounna05_10.ipynb\" target=\"_parent\"><img src=\"https://colab.research.google.com/assets/colab-badge.svg\" alt=\"Open In Colab\"/></a>"
      ]
    },
    {
      "cell_type": "code",
      "execution_count": 1,
      "metadata": {
        "id": "PWipM52U7hBW"
      },
      "outputs": [],
      "source": [
        "!pip install -qq google-play-scraper"
      ]
    },
    {
      "cell_type": "code",
      "source": [
        "!pip install -qq -U watermark"
      ],
      "metadata": {
        "colab": {
          "base_uri": "https://localhost:8080/"
        },
        "id": "RVe5Ocqf8Tr8",
        "outputId": "694efcd6-e814-4b33-f762-2afa4cdc1b49"
      },
      "execution_count": 2,
      "outputs": [
        {
          "output_type": "stream",
          "name": "stdout",
          "text": [
            "\u001b[?25l     \u001b[90m━━━━━━━━━━━━━━━━━━━━━━━━━━━━━━━━━━━━━━━━\u001b[0m \u001b[32m0.0/1.6 MB\u001b[0m \u001b[31m?\u001b[0m eta \u001b[36m-:--:--\u001b[0m\r\u001b[2K     \u001b[91m━━━━━━━━━━━━━━━━━\u001b[0m\u001b[90m╺\u001b[0m\u001b[90m━━━━━━━━━━━━━━━━━━━━━━\u001b[0m \u001b[32m0.7/1.6 MB\u001b[0m \u001b[31m20.1 MB/s\u001b[0m eta \u001b[36m0:00:01\u001b[0m\r\u001b[2K     \u001b[90m━━━━━━━━━━━━━━━━━━━━━━━━━━━━━━━━━━━━━━━━\u001b[0m \u001b[32m1.6/1.6 MB\u001b[0m \u001b[31m26.8 MB/s\u001b[0m eta \u001b[36m0:00:00\u001b[0m\n",
            "\u001b[?25h"
          ]
        }
      ]
    },
    {
      "cell_type": "code",
      "source": [
        "%reload_ext watermark\n",
        "%watermark -v -p pandas,matplotlib,seaborn,google_play_scraper"
      ],
      "metadata": {
        "colab": {
          "base_uri": "https://localhost:8080/"
        },
        "id": "pw6A4hAf9M1K",
        "outputId": "692c9961-0a57-4149-ab42-cc477280c97b"
      },
      "execution_count": 6,
      "outputs": [
        {
          "output_type": "stream",
          "name": "stdout",
          "text": [
            "Python implementation: CPython\n",
            "Python version       : 3.10.12\n",
            "IPython version      : 7.34.0\n",
            "\n",
            "pandas             : 1.5.3\n",
            "matplotlib         : 3.7.1\n",
            "seaborn            : 0.12.2\n",
            "google_play_scraper: 1.2.4\n",
            "\n"
          ]
        }
      ]
    },
    {
      "cell_type": "code",
      "source": [
        "import json\n",
        "import pandas as pd\n",
        "from tqdm import tqdm\n",
        "\n",
        "import seaborn as sns\n",
        "import matplotlib.pyplot as plt\n",
        "\n",
        "from pygments import highlight\n",
        "from pygments.lexers import JsonLexer\n",
        "from pygments.formatters import TerminalFormatter\n",
        "\n",
        "from google_play_scraper import Sort, reviews, app\n",
        "\n",
        "%matplotlib inline\n",
        "%config InlineBackend.figure_format='retina'\n",
        "\n",
        "sns.set(style='whitegrid', palette='muted', font_scale=1.2)"
      ],
      "metadata": {
        "id": "d6wS6Iut9kVz"
      },
      "execution_count": 7,
      "outputs": []
    },
    {
      "cell_type": "code",
      "source": [
        "app_packages = [\n",
        "  'com.anydo',\n",
        "  'com.todoist',\n",
        "  'com.ticktick.task',\n",
        "  'com.habitrpg.android.habitica',\n",
        "  'cc.forestapp',\n",
        "  'com.oristats.habitbull',\n",
        "  'com.levor.liferpgtasks',\n",
        "  'com.habitnow',\n",
        "  'com.microsoft.todos',\n",
        "  'prox.lab.calclock',\n",
        "  'com.gmail.jmartindev.timetune',\n",
        "  'com.artfulagenda.app',\n",
        "  'com.tasks.android',\n",
        "  'com.appgenix.bizcal',\n",
        "  'com.appxy.planner'\n",
        "]"
      ],
      "metadata": {
        "id": "tt5STM4v-d4X"
      },
      "execution_count": 8,
      "outputs": []
    }
  ]
}